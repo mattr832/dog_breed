{
 "cells": [
  {
   "cell_type": "code",
   "execution_count": 1,
   "metadata": {},
   "outputs": [],
   "source": [
    "from imutils import paths\n",
    "from lxml import etree\n",
    "import matplotlib.pyplot as plt\n",
    "import pandas as pd\n",
    "import numpy as np\n",
    "import random\n",
    "import cv2\n",
    "import os\n",
    "import glob"
   ]
  },
  {
   "cell_type": "code",
   "execution_count": 2,
   "metadata": {},
   "outputs": [
    {
     "data": {
      "text/plain": [
       "'C:\\\\Users\\\\mattr\\\\Documents\\\\dog_breed'"
      ]
     },
     "execution_count": 2,
     "metadata": {},
     "output_type": "execute_result"
    }
   ],
   "source": [
    "#confirm the current working directory\n",
    "os.getcwd()"
   ]
  },
  {
   "cell_type": "code",
   "execution_count": 3,
   "metadata": {},
   "outputs": [],
   "source": [
    "os.chdir(r'C:\\\\Users\\\\mattr\\\\Documents\\\\dog_breed\\\\kaggle')"
   ]
  },
  {
   "cell_type": "code",
   "execution_count": 4,
   "metadata": {},
   "outputs": [],
   "source": [
    "# grab the image paths and randomly shuffle them\n",
    "imagePaths = list(paths.list_images(r'C:\\\\Users\\\\mattr\\\\Documents\\\\dog_breed\\\\kaggle\\\\train'))"
   ]
  },
  {
   "cell_type": "code",
   "execution_count": 5,
   "metadata": {},
   "outputs": [],
   "source": [
    "# imagePaths"
   ]
  },
  {
   "cell_type": "code",
   "execution_count": 6,
   "metadata": {},
   "outputs": [],
   "source": [
    "pathids = []\n",
    "\n",
    "for i in range(len(imagePaths)):\n",
    "    test = imagePaths[i]\n",
    "    test = test.split('train\\\\',1)[1][:-4]\n",
    "    pathids.append(test)"
   ]
  },
  {
   "cell_type": "code",
   "execution_count": 7,
   "metadata": {},
   "outputs": [],
   "source": [
    "labels = pd.read_csv('labels.csv')"
   ]
  },
  {
   "cell_type": "code",
   "execution_count": 8,
   "metadata": {},
   "outputs": [
    {
     "data": {
      "text/html": [
       "<div>\n",
       "<style scoped>\n",
       "    .dataframe tbody tr th:only-of-type {\n",
       "        vertical-align: middle;\n",
       "    }\n",
       "\n",
       "    .dataframe tbody tr th {\n",
       "        vertical-align: top;\n",
       "    }\n",
       "\n",
       "    .dataframe thead th {\n",
       "        text-align: right;\n",
       "    }\n",
       "</style>\n",
       "<table border=\"1\" class=\"dataframe\">\n",
       "  <thead>\n",
       "    <tr style=\"text-align: right;\">\n",
       "      <th></th>\n",
       "      <th>id</th>\n",
       "      <th>breed</th>\n",
       "    </tr>\n",
       "  </thead>\n",
       "  <tbody>\n",
       "    <tr>\n",
       "      <th>0</th>\n",
       "      <td>000bec180eb18c7604dcecc8fe0dba07</td>\n",
       "      <td>boston_bull</td>\n",
       "    </tr>\n",
       "    <tr>\n",
       "      <th>1</th>\n",
       "      <td>001513dfcb2ffafc82cccf4d8bbaba97</td>\n",
       "      <td>dingo</td>\n",
       "    </tr>\n",
       "    <tr>\n",
       "      <th>2</th>\n",
       "      <td>001cdf01b096e06d78e9e5112d419397</td>\n",
       "      <td>pekinese</td>\n",
       "    </tr>\n",
       "    <tr>\n",
       "      <th>3</th>\n",
       "      <td>00214f311d5d2247d5dfe4fe24b2303d</td>\n",
       "      <td>bluetick</td>\n",
       "    </tr>\n",
       "    <tr>\n",
       "      <th>4</th>\n",
       "      <td>0021f9ceb3235effd7fcde7f7538ed62</td>\n",
       "      <td>golden_retriever</td>\n",
       "    </tr>\n",
       "  </tbody>\n",
       "</table>\n",
       "</div>"
      ],
      "text/plain": [
       "                                 id             breed\n",
       "0  000bec180eb18c7604dcecc8fe0dba07       boston_bull\n",
       "1  001513dfcb2ffafc82cccf4d8bbaba97             dingo\n",
       "2  001cdf01b096e06d78e9e5112d419397          pekinese\n",
       "3  00214f311d5d2247d5dfe4fe24b2303d          bluetick\n",
       "4  0021f9ceb3235effd7fcde7f7538ed62  golden_retriever"
      ]
     },
     "execution_count": 8,
     "metadata": {},
     "output_type": "execute_result"
    }
   ],
   "source": [
    "labels.head()"
   ]
  },
  {
   "cell_type": "code",
   "execution_count": 9,
   "metadata": {},
   "outputs": [],
   "source": [
    "ids = labels.id"
   ]
  },
  {
   "cell_type": "code",
   "execution_count": 10,
   "metadata": {},
   "outputs": [
    {
     "data": {
      "text/plain": [
       "True"
      ]
     },
     "execution_count": 10,
     "metadata": {},
     "output_type": "execute_result"
    }
   ],
   "source": [
    "list(ids) == pathids"
   ]
  },
  {
   "cell_type": "code",
   "execution_count": 11,
   "metadata": {},
   "outputs": [
    {
     "name": "stderr",
     "output_type": "stream",
     "text": [
      "Using TensorFlow backend.\n"
     ]
    }
   ],
   "source": [
    "import tensorflow as tf\n",
    "from keras.preprocessing.image import img_to_array, ImageDataGenerator\n",
    "\n",
    "X = []\n",
    "\n",
    "# loop over the input images\n",
    "for imagePath in imagePaths:\n",
    "    # load the image, pre-process it, and store it in the data list\n",
    "    image = cv2.imread(imagePath)\n",
    "    image = cv2.resize(image, (300, 300), interpolation = cv2.INTER_AREA)\n",
    "    image = img_to_array(image)\n",
    "    image = image/255\n",
    "    X.append(image)"
   ]
  },
  {
   "cell_type": "code",
   "execution_count": 12,
   "metadata": {},
   "outputs": [],
   "source": [
    "X = np.array(X)"
   ]
  },
  {
   "cell_type": "code",
   "execution_count": 13,
   "metadata": {},
   "outputs": [],
   "source": [
    "onehot = pd.get_dummies(labels.breed)\n",
    "y = np.array(onehot)"
   ]
  },
  {
   "cell_type": "code",
   "execution_count": 14,
   "metadata": {},
   "outputs": [],
   "source": [
    "from sklearn.model_selection import train_test_split\n",
    "from sklearn import preprocessing"
   ]
  },
  {
   "cell_type": "code",
   "execution_count": 15,
   "metadata": {},
   "outputs": [],
   "source": [
    "X_train, X_test, y_train, y_test = train_test_split(X, y, test_size = 0.1, \n",
    "                                                   random_state = 123)"
   ]
  },
  {
   "cell_type": "code",
   "execution_count": 16,
   "metadata": {},
   "outputs": [
    {
     "data": {
      "text/plain": [
       "numpy.ndarray"
      ]
     },
     "execution_count": 16,
     "metadata": {},
     "output_type": "execute_result"
    }
   ],
   "source": [
    "type(X_train)"
   ]
  },
  {
   "cell_type": "code",
   "execution_count": 17,
   "metadata": {},
   "outputs": [
    {
     "data": {
      "text/plain": [
       "numpy.ndarray"
      ]
     },
     "execution_count": 17,
     "metadata": {},
     "output_type": "execute_result"
    }
   ],
   "source": [
    "type(y_train)"
   ]
  },
  {
   "cell_type": "code",
   "execution_count": 18,
   "metadata": {},
   "outputs": [
    {
     "data": {
      "text/plain": [
       "(9199, 300, 300, 3)"
      ]
     },
     "execution_count": 18,
     "metadata": {},
     "output_type": "execute_result"
    }
   ],
   "source": [
    "np.shape(X_train)"
   ]
  },
  {
   "cell_type": "code",
   "execution_count": 19,
   "metadata": {},
   "outputs": [
    {
     "data": {
      "text/plain": [
       "(9199, 120)"
      ]
     },
     "execution_count": 19,
     "metadata": {},
     "output_type": "execute_result"
    }
   ],
   "source": [
    "np.shape(y_train)"
   ]
  },
  {
   "cell_type": "code",
   "execution_count": 20,
   "metadata": {},
   "outputs": [],
   "source": [
    "from keras.models import Model\n",
    "from keras.layers import Dense, Flatten\n",
    "from keras.optimizers import SGD\n",
    "from keras.callbacks import EarlyStopping"
   ]
  },
  {
   "cell_type": "code",
   "execution_count": 21,
   "metadata": {},
   "outputs": [
    {
     "name": "stdout",
     "output_type": "stream",
     "text": [
      "1 Physical GPUs, 1 Logical GPUs\n"
     ]
    }
   ],
   "source": [
    "tf.keras.backend.clear_session()\n",
    "\n",
    "# from tensorflow import keras\n",
    "# from tensorflow.keras import layers\n",
    "# from tensorflow.keras.mixed_precision import experimental as mixed_precision\n",
    " \n",
    "\n",
    "gpus = tf.config.experimental.list_physical_devices('GPU')\n",
    "if gpus:\n",
    "  try:\n",
    "    # Currently, memory growth needs to be the same across GPUs\n",
    "    for gpu in gpus:\n",
    "      tf.config.experimental.set_memory_growth(gpu, True)\n",
    "    logical_gpus = tf.config.experimental.list_logical_devices('GPU')\n",
    "    print(len(gpus), \"Physical GPUs,\", len(logical_gpus), \"Logical GPUs\")\n",
    "  except RuntimeError as e:\n",
    "    # Memory growth must be set before GPUs have been initialized\n",
    "    print(e)"
   ]
  },
  {
   "cell_type": "code",
   "execution_count": 22,
   "metadata": {},
   "outputs": [],
   "source": [
    "from keras.applications.inception_v3 import InceptionV3\n",
    "from keras.applications.inception_resnet_v2 import InceptionResNetV2"
   ]
  },
  {
   "cell_type": "code",
   "execution_count": 23,
   "metadata": {},
   "outputs": [],
   "source": [
    "datagen = ImageDataGenerator(\n",
    "    rotation_range=10,\n",
    "    zoom_range=0.2,\n",
    "    horizontal_flip=True,\n",
    "    fill_mode='nearest')"
   ]
  },
  {
   "cell_type": "code",
   "execution_count": 24,
   "metadata": {},
   "outputs": [],
   "source": [
    "# create the base pre-trained model\n",
    "base = InceptionResNetV2(include_top=False, weights='imagenet', input_shape=(300,300,3))"
   ]
  },
  {
   "cell_type": "code",
   "execution_count": 25,
   "metadata": {},
   "outputs": [],
   "source": [
    "# add a global spatial average pooling layer\n",
    "x = base.output\n",
    "# let's add a fully-connected layer\n",
    "x = Flatten()(x)\n",
    "# and a logistic layer -- let's say we have 200 classes\n",
    "predictions = Dense(120, activation='softmax')(x)"
   ]
  },
  {
   "cell_type": "code",
   "execution_count": 26,
   "metadata": {},
   "outputs": [],
   "source": [
    "# this is the model we will train\n",
    "inc_v3 = Model(inputs=base.input, outputs=predictions)"
   ]
  },
  {
   "cell_type": "code",
   "execution_count": 27,
   "metadata": {},
   "outputs": [],
   "source": [
    "# first: train only the top layers (which were randomly initialized)\n",
    "# i.e. freeze all convolutional InceptionV3 layers\n",
    "for layer in base.layers:\n",
    "    layer.trainable = False"
   ]
  },
  {
   "cell_type": "code",
   "execution_count": 28,
   "metadata": {},
   "outputs": [],
   "source": [
    "sgd = SGD(lr=0.0002)\n",
    "inc_v3.compile(loss='categorical_crossentropy', optimizer=sgd, metrics=['accuracy'])"
   ]
  },
  {
   "cell_type": "code",
   "execution_count": 29,
   "metadata": {},
   "outputs": [
    {
     "name": "stdout",
     "output_type": "stream",
     "text": [
      "Epoch 1/15\n",
      "1150/1149 [==============================] - 206s 179ms/step - loss: 2.1994 - accuracy: 0.4764 - val_loss: 1.1064 - val_accuracy: 0.7116\n",
      "Epoch 2/15\n",
      "1150/1149 [==============================] - 156s 136ms/step - loss: 1.2761 - accuracy: 0.6520 - val_loss: 0.9449 - val_accuracy: 0.7634\n",
      "Epoch 3/15\n",
      "1150/1149 [==============================] - 152s 132ms/step - loss: 1.0507 - accuracy: 0.7078 - val_loss: 0.9513 - val_accuracy: 0.7683\n",
      "Epoch 4/15\n",
      "1150/1149 [==============================] - 152s 132ms/step - loss: 0.8887 - accuracy: 0.7454 - val_loss: 0.9381 - val_accuracy: 0.7595\n",
      "Epoch 5/15\n",
      "1150/1149 [==============================] - 152s 132ms/step - loss: 0.7463 - accuracy: 0.7826 - val_loss: 0.9524 - val_accuracy: 0.7742\n",
      "Epoch 6/15\n",
      "1150/1149 [==============================] - 152s 132ms/step - loss: 0.6547 - accuracy: 0.7998 - val_loss: 0.9981 - val_accuracy: 0.7703\n",
      "Epoch 7/15\n",
      "1150/1149 [==============================] - 152s 132ms/step - loss: 0.5665 - accuracy: 0.8276 - val_loss: 0.9717 - val_accuracy: 0.7693\n",
      "Epoch 8/15\n",
      "1150/1149 [==============================] - 151s 132ms/step - loss: 0.5024 - accuracy: 0.8486 - val_loss: 0.9870 - val_accuracy: 0.7703\n",
      "Epoch 9/15\n",
      "1150/1149 [==============================] - 153s 133ms/step - loss: 0.4659 - accuracy: 0.8654 - val_loss: 0.9421 - val_accuracy: 0.7674\n",
      "Epoch 10/15\n",
      "1150/1149 [==============================] - 152s 132ms/step - loss: 0.4085 - accuracy: 0.8712 - val_loss: 0.9354 - val_accuracy: 0.7849\n",
      "Epoch 11/15\n",
      "1150/1149 [==============================] - 152s 132ms/step - loss: 0.3585 - accuracy: 0.8884 - val_loss: 0.9671 - val_accuracy: 0.7752\n",
      "Epoch 12/15\n",
      "1150/1149 [==============================] - 152s 132ms/step - loss: 0.3395 - accuracy: 0.8965 - val_loss: 0.9398 - val_accuracy: 0.7898\n",
      "Epoch 13/15\n",
      "1150/1149 [==============================] - 152s 132ms/step - loss: 0.3236 - accuracy: 0.9019 - val_loss: 0.9570 - val_accuracy: 0.7849\n",
      "Epoch 14/15\n",
      "1150/1149 [==============================] - 152s 132ms/step - loss: 0.3016 - accuracy: 0.9087 - val_loss: 0.9455 - val_accuracy: 0.7849\n",
      "Epoch 15/15\n",
      "1150/1149 [==============================] - 153s 133ms/step - loss: 0.2832 - accuracy: 0.9115 - val_loss: 0.9083 - val_accuracy: 0.7957\n"
     ]
    },
    {
     "data": {
      "text/plain": [
       "<keras.callbacks.callbacks.History at 0x1b48b7b9d88>"
      ]
     },
     "execution_count": 29,
     "metadata": {},
     "output_type": "execute_result"
    }
   ],
   "source": [
    "# fits the model on batches with real-time data augmentation:\n",
    "inc_v3.fit_generator(datagen.flow(X_train, y_train, batch_size=8),\n",
    "                    steps_per_epoch=len(X_train) / 8, epochs=10,\n",
    "                    validation_data=(X_test, y_test))"
   ]
  },
  {
   "cell_type": "code",
   "execution_count": 30,
   "metadata": {},
   "outputs": [],
   "source": [
    "# inc_v3.fit(X_train, y_train, batch_size=16, \n",
    "#           epochs=5, shuffle=True,\n",
    "#          validation_data=(X_test, y_test))"
   ]
  },
  {
   "cell_type": "code",
   "execution_count": 31,
   "metadata": {},
   "outputs": [
    {
     "data": {
      "image/png": "[encoded data removed]",
      "text/plain": [
       "<Figure size 432x288 with 1 Axes>"
      ]
     },
     "metadata": {
      "needs_background": "light"
     },
     "output_type": "display_data"
    }
   ],
   "source": [
    "hist = inc_v3.history\n",
    "\n",
    "# Plot training & validation loss values\n",
    "plt.plot(hist.history['loss'])\n",
    "plt.plot(hist.history['val_loss'])\n",
    "plt.title('Model loss')\n",
    "plt.ylabel('Loss')\n",
    "plt.xlabel('Epoch')\n",
    "plt.legend(['Train', 'Test'], loc='upper left')\n",
    "plt.show()"
   ]
  },
  {
   "cell_type": "code",
   "execution_count": 32,
   "metadata": {},
   "outputs": [],
   "source": [
    "testPaths = list(paths.list_images(r'C:\\\\Users\\\\mattr\\\\Documents\\\\dog_breed\\\\kaggle\\\\test'))"
   ]
  },
  {
   "cell_type": "code",
   "execution_count": 33,
   "metadata": {},
   "outputs": [],
   "source": [
    "X_kag = []\n",
    "\n",
    "# loop over the input images\n",
    "for imagePath in testPaths:\n",
    "    # load the image, pre-process it, and store it in the data list\n",
    "    image = cv2.imread(imagePath)\n",
    "    image = cv2.resize(image, (300, 300), interpolation = cv2.INTER_AREA)\n",
    "    image = img_to_array(image)\n",
    "    image = image/255\n",
    "    X_kag.append(image)"
   ]
  },
  {
   "cell_type": "code",
   "execution_count": 34,
   "metadata": {},
   "outputs": [],
   "source": [
    "X_toscore = np.array(X_kag)"
   ]
  },
  {
   "cell_type": "code",
   "execution_count": 35,
   "metadata": {},
   "outputs": [],
   "source": [
    "preds = inc_v3.predict(X_toscore)"
   ]
  },
  {
   "cell_type": "code",
   "execution_count": 36,
   "metadata": {},
   "outputs": [],
   "source": [
    "np.savetxt(\"preds.csv\", preds, delimiter=\",\")"
   ]
  },
  {
   "cell_type": "code",
   "execution_count": 37,
   "metadata": {},
   "outputs": [],
   "source": [
    "# grab the image paths and randomly shuffle them\n",
    "maniPaths = list(paths.list_images(r'C:\\\\Users\\\\mattr\\\\Documents\\\\dog_breed\\\\Mani'))"
   ]
  },
  {
   "cell_type": "code",
   "execution_count": 38,
   "metadata": {},
   "outputs": [],
   "source": [
    "mani_pics = []\n",
    "\n",
    "# loop over the input images\n",
    "for mani in maniPaths:\n",
    "    # load the image, pre-process it, and store it in the data list\n",
    "    image = cv2.imread(mani)\n",
    "    image = cv2.resize(image, (300, 300), interpolation = cv2.INTER_AREA)\n",
    "#     image = tf.image.resize_with_crop_or_pad(image, 300, 300)\n",
    "    image = img_to_array(image)\n",
    "    image = image/255\n",
    "    mani_pics.append(image)"
   ]
  },
  {
   "cell_type": "code",
   "execution_count": 39,
   "metadata": {},
   "outputs": [],
   "source": [
    "mani_pics = np.array(mani_pics)"
   ]
  },
  {
   "cell_type": "code",
   "execution_count": 40,
   "metadata": {},
   "outputs": [],
   "source": [
    "mani_preds = inc_v3.predict(mani_pics)"
   ]
  },
  {
   "cell_type": "code",
   "execution_count": 41,
   "metadata": {},
   "outputs": [
    {
     "data": {
      "text/plain": [
       "array([[1.3903321e-05, 1.8962120e-06, 1.8615403e-07, ..., 1.4659361e-06,\n",
       "        1.1987031e-04, 4.4566659e-06],\n",
       "       [2.9452985e-06, 4.2703894e-05, 1.0461661e-06, ..., 1.4780050e-04,\n",
       "        1.1330902e-04, 6.3378736e-04],\n",
       "       [4.1392752e-07, 5.5969335e-06, 8.1088996e-07, ..., 1.9738529e-06,\n",
       "        2.9209318e-06, 2.8760201e-06],\n",
       "       ...,\n",
       "       [1.1985598e-05, 3.6556132e-06, 1.3449001e-05, ..., 2.7573944e-06,\n",
       "        3.6970683e-04, 9.5255113e-05],\n",
       "       [3.0470769e-06, 1.0740138e-06, 8.1655560e-07, ..., 3.0627743e-06,\n",
       "        6.0282862e-05, 1.0228923e-05],\n",
       "       [1.9562449e-06, 7.2084231e-07, 5.0343255e-07, ..., 1.3541211e-06,\n",
       "        5.5080160e-05, 3.1879242e-06]], dtype=float32)"
      ]
     },
     "execution_count": 41,
     "metadata": {},
     "output_type": "execute_result"
    }
   ],
   "source": [
    "mani_preds"
   ]
  },
  {
   "cell_type": "code",
   "execution_count": 42,
   "metadata": {},
   "outputs": [],
   "source": [
    "labels = list(pd.Series(labels.breed.unique()).sort_values())"
   ]
  },
  {
   "cell_type": "code",
   "execution_count": 43,
   "metadata": {},
   "outputs": [],
   "source": [
    "finalpreds = pd.DataFrame(mani_preds, columns=labels)"
   ]
  },
  {
   "cell_type": "code",
   "execution_count": 44,
   "metadata": {},
   "outputs": [
    {
     "data": {
      "text/plain": [
       "eskimo_dog                     88\n",
       "siberian_husky                 67\n",
       "cardigan                       57\n",
       "malamute                       44\n",
       "border_collie                  35\n",
       "pembroke                       25\n",
       "norwegian_elkhound             13\n",
       "basenji                         9\n",
       "german_shepherd                 7\n",
       "kelpie                          7\n",
       "welsh_springer_spaniel          5\n",
       "collie                          5\n",
       "appenzeller                     4\n",
       "schipperke                      4\n",
       "entlebucher                     4\n",
       "greater_swiss_mountain_dog      4\n",
       "english_springer                4\n",
       "bernese_mountain_dog            3\n",
       "brittany_spaniel                3\n",
       "toy_terrier                     2\n",
       "golden_retriever                2\n",
       "ibizan_hound                    1\n",
       "lakeland_terrier                1\n",
       "blenheim_spaniel                1\n",
       "shetland_sheepdog               1\n",
       "walker_hound                    1\n",
       "english_setter                  1\n",
       "miniature_pinscher              1\n",
       "beagle                          1\n",
       "bluetick                        1\n",
       "west_highland_white_terrier     1\n",
       "giant_schnauzer                 1\n",
       "cocker_spaniel                  1\n",
       "saint_bernard                   1\n",
       "english_foxhound                1\n",
       "dtype: int64"
      ]
     },
     "execution_count": 44,
     "metadata": {},
     "output_type": "execute_result"
    }
   ],
   "source": [
    "finalpreds.idxmax(axis=1).value_counts()"
   ]
  },
  {
   "cell_type": "code",
   "execution_count": 45,
   "metadata": {},
   "outputs": [],
   "source": [
    "# grab the image paths and randomly shuffle them\n",
    "rouxPaths = list(paths.list_images(r'C:\\\\Users\\\\mattr\\\\Documents\\\\dog_breed\\\\Roux'))"
   ]
  },
  {
   "cell_type": "code",
   "execution_count": 46,
   "metadata": {},
   "outputs": [],
   "source": [
    "roux_pics = []\n",
    "\n",
    "# loop over the input images\n",
    "for roux in rouxPaths:\n",
    "    # load the image, pre-process it, and store it in the data list\n",
    "    image = cv2.imread(roux)\n",
    "#     image = cv2.resize(image, (300, 300), interpolation = cv2.INTER_AREA)\n",
    "    image = tf.image.resize_with_crop_or_pad(image, 300, 300)\n",
    "    image = img_to_array(image)\n",
    "    image = image/255\n",
    "    roux_pics.append(image)\n",
    "    \n",
    "roux_pics = np.array(roux_pics)"
   ]
  },
  {
   "cell_type": "code",
   "execution_count": 47,
   "metadata": {},
   "outputs": [],
   "source": [
    "roux_preds = inc_v3.predict(roux_pics)"
   ]
  },
  {
   "cell_type": "code",
   "execution_count": 48,
   "metadata": {},
   "outputs": [
    {
     "data": {
      "text/plain": [
       "bluetick                    2\n",
       "brittany_spaniel            2\n",
       "golden_retriever            1\n",
       "australian_terrier          1\n",
       "great_dane                  1\n",
       "irish_terrier               1\n",
       "irish_wolfhound             1\n",
       "entlebucher                 1\n",
       "chesapeake_bay_retriever    1\n",
       "dtype: int64"
      ]
     },
     "execution_count": 48,
     "metadata": {},
     "output_type": "execute_result"
    }
   ],
   "source": [
    "rouxfinalpreds = pd.DataFrame(roux_preds, columns=labels)\n",
    "rouxfinalpreds.idxmax(axis=1).value_counts()"
   ]
  },
  {
   "cell_type": "code",
   "execution_count": null,
   "metadata": {},
   "outputs": [],
   "source": []
  },
  {
   "cell_type": "code",
   "execution_count": null,
   "metadata": {},
   "outputs": [],
   "source": []
  }
 ],
 "metadata": {
  "kernelspec": {
   "display_name": "Python 3",
   "language": "python",
   "name": "python3"
  },
  "language_info": {
   "codemirror_mode": {
    "name": "ipython",
    "version": 3
   },
   "file_extension": ".py",
   "mimetype": "text/x-python",
   "name": "python",
   "nbconvert_exporter": "python",
   "pygments_lexer": "ipython3",
   "version": "3.7.7"
  }
 },
 "nbformat": 4,
 "nbformat_minor": 4
}
